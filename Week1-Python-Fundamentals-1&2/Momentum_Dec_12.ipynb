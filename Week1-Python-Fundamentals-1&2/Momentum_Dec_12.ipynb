{
  "nbformat": 4,
  "nbformat_minor": 0,
  "metadata": {
    "colab": {
      "name": "Momentum-Dec-12.ipynb",
      "provenance": [],
      "collapsed_sections": []
    },
    "kernelspec": {
      "name": "python3",
      "display_name": "Python 3"
    }
  },
  "cells": [
    {
      "cell_type": "markdown",
      "metadata": {
        "id": "KENKPGqAks3q"
      },
      "source": [
        "\n",
        "\n",
        "Let's start with hello world."
      ]
    },
    {
      "cell_type": "code",
      "metadata": {
        "id": "EB_MYQOuUZ59"
      },
      "source": [
        "# in python to run something, we just call what we need. In this case, we ant to\n",
        "# print hello world to the output and we will do that by calling print and\n",
        "# sending in hello world\n",
        "print('hello world!')\n"
      ],
      "execution_count": null,
      "outputs": []
    },
    {
      "cell_type": "markdown",
      "metadata": {
        "id": "12-x66mvlYWp"
      },
      "source": [
        "What we have done is that we `called` the `function` `print` and passed in the `argument`: a `string` \"hello world!\"\n",
        "\n",
        "Some definitions:\n",
        "\n",
        "1.  `function` - an enclosed piece of code that can be run by `calling` it\n",
        "2.  `call` - the action of making the computer run the `function`\n",
        "3.  `argument` - the values inputted to the function. Arguments can vary in types and amounts, it depends on the `funtion` `called`\n",
        "4.  `string` - a type of data that contains normal text characters (alphanumeric and other language characters)\n",
        "\n",
        "\n",
        " *Note: this section is a bit confusing with the explicit/implicit input outut. We can make it a bit clearer with different analogies*\n",
        " \n",
        "If you are familiar with math, the `function` in math is a good analogue to a program `function`. In math, a `funtion` takes an input then maps it to an output. In programming `funtion` can take an input explicitly and can map an output explicity. Usually, if they dont produce outputs explicitly or take inputs explicitly, they are implicitly given in the programming enviroment. In our case the output of `print` is to the screen and we needn't take it from the function itself. \n",
        "\n",
        "\n",
        "We can have a `funtion` `a_func`. `call` it by doing: `a_funct()`, accept no inputs or outputs but the program will provide the implicit inputs (program state, global variables etc) and output it somewhere (the console screen or just in memory ).\n",
        "\n",
        "\n"
      ]
    },
    {
      "cell_type": "markdown",
      "metadata": {
        "id": "DolPdqE8Xquy"
      },
      "source": [
        "*some notes about our enviroment, text cells are Markdown compatible so you can make different stylistic choice based on what's available in markdown*\n",
        "\n",
        "#Markdown\n",
        "##heading\n",
        "\n",
        "Code cells contain python code and are mostly independent from another cell. Although when you play one cell, it doesn't clear the caches/memory so that the next time you call the same cell, it will still have the values from the previous call. \n",
        "\n",
        "*shoutout to Alex, for catching this one*"
      ]
    },
    {
      "cell_type": "markdown",
      "metadata": {
        "id": "C2lunqQ_UrjL"
      },
      "source": [
        "### Types\n",
        "\n",
        "In Python there are 5 basic types. \n",
        "\n",
        "1. Integers\n",
        "2. Floats - rational numbers (float refers to [floating point](https://en.wikipedia.org/wiki/Floating-point_arithmetic))\n",
        "3. Strings - these are words and characters. \"Hello World\" is an example\n",
        "4. Bool - True or False\n",
        "5. None - specified None type\n",
        "\n",
        "\n",
        "To check the type of something use the function `type()`"
      ]
    },
    {
      "cell_type": "code",
      "metadata": {
        "id": "gJFAMIOxX3t3",
        "colab": {
          "base_uri": "https://localhost:8080/",
          "height": 35
        },
        "outputId": "622d2530-03c5-4341-abe6-aee3323a4d83"
      },
      "source": [
        "type(1), type(3.0), type('hello string'),type(True), type(None)"
      ],
      "execution_count": null,
      "outputs": [
        {
          "output_type": "execute_result",
          "data": {
            "text/plain": [
              "(int, float, str, bool, NoneType)"
            ]
          },
          "metadata": {
            "tags": []
          },
          "execution_count": 8
        }
      ]
    },
    {
      "cell_type": "markdown",
      "metadata": {
        "id": "cRTRs-l6qu6g"
      },
      "source": [
        "### Assignment\n",
        "\n",
        "In programming, to generalize, we need to be able to use symbols to signify a variying object. In python we do this by an operation called assignment.\n",
        "\n",
        "We assign with a singular `=` with the name on the left hand and the value to the right of the `=` sign"
      ]
    },
    {
      "cell_type": "code",
      "metadata": {
        "id": "rFewniSvY2Uq",
        "colab": {
          "base_uri": "https://localhost:8080/",
          "height": 35
        },
        "outputId": "59771b1d-2d4a-4ac8-d4d8-7673c6746397"
      },
      "source": [
        "a_item = 2\n",
        "\n",
        "# to 'declare' a variable assign to None (# is a comment)\n",
        "\n",
        "a_temp_var = None\n",
        "\n",
        "# We can now use the name to do operations!\n",
        "\n",
        "a_item + a_item"
      ],
      "execution_count": null,
      "outputs": [
        {
          "output_type": "execute_result",
          "data": {
            "text/plain": [
              "4"
            ]
          },
          "metadata": {
            "tags": []
          },
          "execution_count": 17
        }
      ]
    },
    {
      "cell_type": "markdown",
      "metadata": {
        "id": "CsQs8w5wZ1Nl"
      },
      "source": [
        "To see what we can do with the assignment operator, here's a piece of code that says a few sentences. We want to be able to run those sentences but change the value depending on what we want. We can do this by assignment"
      ]
    },
    {
      "cell_type": "code",
      "metadata": {
        "id": "Ga7MMwnsZ6qV",
        "colab": {
          "base_uri": "https://localhost:8080/",
          "height": 88
        },
        "outputId": "02d8ea0e-dee6-4f5a-c4f6-07a5e5278c9e"
      },
      "source": [
        "name = 'Andrew'\n",
        "lastname = 'Pan'\n",
        "activity = 'programming'\n",
        "\n",
        "# Aside: this 'string {}'format(thing) pattern is called interpolation\n",
        "print('Hi I\\'m {} {}'.format(name, lastname))\n",
        "print('{} is my volition'.format(activity))\n",
        "print('{} is my hobby'.format(activity))\n",
        "\n",
        "5 + 5"
      ],
      "execution_count": null,
      "outputs": [
        {
          "output_type": "stream",
          "text": [
            "Hi I'm Andrew Pan\n",
            "programming is my volition\n",
            "programming is my hobby\n"
          ],
          "name": "stdout"
        },
        {
          "output_type": "execute_result",
          "data": {
            "text/plain": [
              "10"
            ]
          },
          "metadata": {
            "tags": []
          },
          "execution_count": 6
        }
      ]
    },
    {
      "cell_type": "markdown",
      "metadata": {
        "id": "c4wh0rn8rn6P"
      },
      "source": [
        "### Math Operators\n",
        "\n",
        "Python supports the basic operations:\n",
        "\n",
        "1. `+` - addition\n",
        "2. `-` - subtraction\n",
        "3. `/` - division\n",
        "4. `%` - modulus - get the remainder of an incomplete division\n",
        "5. `**` - exponentiation\n",
        "6. `//` - integer division`\n",
        "\n",
        " Notice here that float ands integers can be mixed in their operations. Other programming languages don't allow this!"
      ]
    },
    {
      "cell_type": "code",
      "metadata": {
        "id": "MBFwDiVDbuDg",
        "colab": {
          "base_uri": "https://localhost:8080/",
          "height": 109
        },
        "outputId": "16b2a64b-15c7-4b8f-b811-c8c72bb26d71"
      },
      "source": [
        "#+, - , /, %, **\n",
        "print(1 + 1)\n",
        "print(2 - 1)\n",
        "print(2.5 - 1)\n",
        "print(2/3)\n",
        "# 1.__add__(2.5) # 1 + 2.5 \n",
        "#"
      ],
      "execution_count": null,
      "outputs": [
        {
          "output_type": "stream",
          "text": [
            "2\n",
            "1\n",
            "1.5\n",
            "0.6666666666666666\n",
            "x something\n"
          ],
          "name": "stdout"
        }
      ]
    },
    {
      "cell_type": "code",
      "metadata": {
        "id": "j3wXtmImfGtQ",
        "colab": {
          "base_uri": "https://localhost:8080/",
          "height": 197
        },
        "outputId": "92108f21-80c4-475b-d946-b6f9fc5777f9"
      },
      "source": [
        "# counting starts from 0\n",
        "'String {}'.format('is a string')\n",
        "print('string here'[0]) # first\n",
        "print('string here'[-1]) # last\n",
        "print('string here'[-2]) # last\n",
        "print('string here'[10])\n",
        "print('string here'[1:5]) # from the 1st print upto but not the 5th\n",
        "print('string here'[:5]) # from the start print until but not the 5th\n",
        "print('string here'[5:]) # from the 5th char print until the end\n",
        "\n",
        "print('string ' + 'here')\n",
        "\n",
        "#__add__\n",
        "\n",
        "print('string' + str(25))\n",
        "#print(int('string') + 25)\n",
        "print(int('10') + 25)"
      ],
      "execution_count": null,
      "outputs": [
        {
          "output_type": "stream",
          "text": [
            "s\n",
            "e\n",
            "r\n",
            "e\n",
            "trin\n",
            "strin\n",
            "g here\n",
            "string here\n",
            "string25\n",
            "35\n"
          ],
          "name": "stdout"
        }
      ]
    },
    {
      "cell_type": "code",
      "metadata": {
        "id": "BeUP26Y0hNVj",
        "colab": {
          "base_uri": "https://localhost:8080/",
          "height": 53
        },
        "outputId": "458e644b-36ab-402b-9a78-ddfab75a587f"
      },
      "source": [
        "name = input('Hello! ')\n",
        "print('Hi {}!'.format(name))"
      ],
      "execution_count": null,
      "outputs": [
        {
          "output_type": "stream",
          "text": [
            "Hello! Peter\n",
            "Hi Peter!\n"
          ],
          "name": "stdout"
        }
      ]
    },
    {
      "cell_type": "code",
      "metadata": {
        "id": "5HcTHIa-h43-",
        "colab": {
          "base_uri": "https://localhost:8080/",
          "height": 34
        },
        "outputId": "746ca287-6ac2-4d36-8f13-38aae2a650cb"
      },
      "source": [
        "\n",
        "text = 'hi' #@param {type: \"string\"}\n",
        "\n",
        "num = 24 #@param {type: \"number\"}\n",
        "\n",
        "print(text + str(num))"
      ],
      "execution_count": null,
      "outputs": [
        {
          "output_type": "stream",
          "text": [
            "hi24\n"
          ],
          "name": "stdout"
        }
      ]
    },
    {
      "cell_type": "code",
      "metadata": {
        "id": "i2X9otEao9Wt",
        "colab": {
          "base_uri": "https://localhost:8080/",
          "height": 90
        },
        "outputId": "c0b18be7-ec99-4be9-db02-19454808b93b"
      },
      "source": [
        "# second you run the variables are saved (maintained)\n",
        "guest = input('Enter Name:')\n",
        "days = int(input('Number of days to stay:'))\n",
        "\n",
        "base_price = 200 # need this to initialize\n",
        "if guest == 'Peter':\n",
        "  base_price = 50\n",
        "else:\n",
        "  # >= <= == !=, \n",
        "  if (days == 2):\n",
        "    base_price = 150\n",
        "\n",
        "  if (days == 3):\n",
        "    base_price = 125\n",
        "\n",
        "  if (days == 4):\n",
        "    base_price = 400\n",
        "\n",
        "  if (days > 4):\n",
        "    base_price = 100\n",
        "    \n",
        "print(base_price)\n",
        "  \n",
        "print('Your estimated cost is {}'.format(days * base_price))\n"
      ],
      "execution_count": null,
      "outputs": [
        {
          "output_type": "stream",
          "text": [
            "Enter Name:Peter\n",
            "Number of days to stay:5\n",
            "50\n",
            "Your estimated cost is 250\n"
          ],
          "name": "stdout"
        }
      ]
    },
    {
      "cell_type": "code",
      "metadata": {
        "id": "c6BaQ7KKuDb9",
        "colab": {
          "base_uri": "https://localhost:8080/",
          "height": 158
        },
        "outputId": "a7d7c87a-1710-4070-fbba-077024040d0a"
      },
      "source": [
        "# second you run the variables are saved (maintained)\n",
        "#type(), str(), int()\n",
        "\n",
        "def greeter_pricer(greeting_text):\n",
        "  guest = input(greeting_text)\n",
        "  days = int(input('Number of days to stay:'))\n",
        "\n",
        "  base_price = 200 # need this to initialize\n",
        "  if guest == 'Peter':\n",
        "    base_price = 50\n",
        "  else:\n",
        "    # >= <= == !=, \n",
        "    if (days == 2):\n",
        "      base_price = 150\n",
        "\n",
        "    if (days == 3):\n",
        "      base_price = 125\n",
        "\n",
        "    if (days == 4):\n",
        "      base_price = 400\n",
        "\n",
        "    if (days > 4):\n",
        "      base_price = 100\n",
        "  \n",
        "  total = days * base_price\n",
        "\n",
        "  print('Your estimated cost is {}'.format(total))\n",
        "  \n",
        "  return total\n",
        "\n",
        "#print(greeter_pricer('Hello welcome!'))\n",
        "english_price = greeter_pricer('Hello welcome!')\n",
        "print('english greeter price: {}'.format(english_price))\n",
        "print(greeter_pricer('Hola!'))"
      ],
      "execution_count": null,
      "outputs": [
        {
          "output_type": "stream",
          "text": [
            "Hello welcome!HELLO\n",
            "Number of days to stay:50\n",
            "Your estimated cost is 5000\n",
            "english greeter price: 5000\n",
            "Hola!HOla\n",
            "Number of days to stay:205\n",
            "Your estimated cost is 20500\n",
            "20500\n"
          ],
          "name": "stdout"
        }
      ]
    },
    {
      "cell_type": "code",
      "metadata": {
        "id": "osbj09PJyW5d"
      },
      "source": [
        "# second you run the variables are saved (maintained)\n",
        "#type(), str(), int()\n",
        "a_list_of_people = []\n",
        "def greeter_pricer(greeting_text):\n",
        "  guest = input(greeting_text)\n",
        "  days = int(input('Number of days to stay:'))\n",
        "\n",
        "  base_price = 200 # need this to initialize\n",
        "  if guest == 'Peter':\n",
        "    base_price = 50\n",
        "  else:\n",
        "    # >= <= == !=, \n",
        "    if (days == 2):\n",
        "      base_price = 150\n",
        "\n",
        "    if (days == 3):\n",
        "      base_price = 125\n",
        "\n",
        "    if (days == 4):\n",
        "      base_price = 400\n",
        "\n",
        "    if (days > 4):\n",
        "      base_price = 100\n",
        "  \n",
        "  total = days * base_price\n",
        "\n",
        "  print('Your estimated cost is {}'.format(total))\n",
        "  \n",
        "  return total\n"
      ],
      "execution_count": null,
      "outputs": []
    },
    {
      "cell_type": "code",
      "metadata": {
        "id": "xD0bovLBv829",
        "colab": {
          "base_uri": "https://localhost:8080/",
          "height": 193
        },
        "outputId": "5b9680e3-5bc3-4f29-a72b-3a9340e1a2fa"
      },
      "source": [
        "# list - changed the list (add or remove)\n",
        "a_list = [1,2,3,4,5]\n",
        "\n",
        "print(a_list)\n",
        "a_list.append(6)\n",
        "\n",
        "print(a_list)\n",
        "a_list.append(None)\n",
        "\n",
        "print(a_list)\n",
        "\n",
        "print(a_list[1])\n",
        "print(a_list[1:4]) # 1th item upto 4th but not the 4th\n",
        "\n",
        "a_list.pop() # remove an item\n",
        "print(a_list)\n",
        "\n",
        "\n",
        "# tuple - can't be changed after it's defined\n",
        "\n",
        "x_by_it = (1.2,) \n",
        "x_y_coord = (1.2, 2.3)\n",
        "print(x_y_coord)\n",
        "# x_y_coord.append(1.3)\n",
        "print(x_y_coord)\n",
        "\n",
        "print((1,2) == (1,2))\n",
        "\n",
        "# grouping things together as tuples\n",
        "\n",
        "basket_player = ('Vince Carter', '32', '6-8')\n",
        "basket_player_2 = ('Vince Carter', '32', '6-8')\n",
        "#basket_player_2 = ('Michael Jordan', '23', '6-6')\n",
        "\n",
        "if (basket_player == basket_player_2):\n",
        "  print('yes')\n",
        "else:\n",
        "  print('nope')"
      ],
      "execution_count": null,
      "outputs": [
        {
          "output_type": "stream",
          "text": [
            "[1, 2, 3, 4, 5]\n",
            "[1, 2, 3, 4, 5, 6]\n",
            "[1, 2, 3, 4, 5, 6, None]\n",
            "2\n",
            "[2, 3, 4]\n",
            "[1, 2, 3, 4, 5, 6]\n",
            "(1.2, 2.3)\n",
            "(1.2, 2.3)\n",
            "True\n",
            "yes\n"
          ],
          "name": "stdout"
        }
      ]
    },
    {
      "cell_type": "code",
      "metadata": {
        "id": "aN_cg8T2u26X",
        "colab": {
          "base_uri": "https://localhost:8080/",
          "height": 143
        },
        "outputId": "8094cca3-fba9-4da5-863d-5cc7e8256a82"
      },
      "source": [
        "# second you run the variables are saved (maintained)\n",
        "#type(), str(), int()\n",
        "a_list_of_people_greeted = []\n",
        "def greeter_pricer(greeting_text, a_list_of_people):\n",
        "  guest = input(greeting_text)\n",
        "  days = int(input('Number of days to stay:'))\n",
        "\n",
        "  base_price = 200 # need this to initialize\n",
        "  if guest == 'Peter':\n",
        "    base_price = 50\n",
        "  else:\n",
        "    # >= <= == !=, \n",
        "    if (days == 2):\n",
        "      base_price = 150\n",
        "\n",
        "    if (days == 3):\n",
        "      base_price = 125\n",
        "\n",
        "    if (days == 4):\n",
        "      base_price = 400\n",
        "\n",
        "    if (days > 4):\n",
        "      base_price = 100\n",
        "  \n",
        "  total = days * base_price\n",
        "  \n",
        "  a_list_of_people.append((guest, days, base_price))\n",
        "\n",
        "  print('Your estimated cost is {}'.format(total))\n",
        "  \n",
        "  return total\n",
        "\n",
        "\n",
        "greeter_pricer('Hello', a_list_of_people_greeted)\n",
        "greeter_pricer('Hello', a_list_of_people_greeted)\n",
        "\n",
        "print(a_list_of_people_greeted)\n",
        "\n",
        "\n",
        "\n"
      ],
      "execution_count": null,
      "outputs": [
        {
          "output_type": "stream",
          "text": [
            "HelloPeter\n",
            "Number of days to stay:6\n",
            "Your estimated cost is 300\n",
            "HelloANdrew\n",
            "Number of days to stay:7\n",
            "Your estimated cost is 700\n",
            "[('Peter', 6, 50), ('ANdrew', 7, 100)]\n"
          ],
          "name": "stdout"
        }
      ]
    },
    {
      "cell_type": "markdown",
      "metadata": {
        "id": "X7vO67E0krkJ"
      },
      "source": [
        ""
      ]
    },
    {
      "cell_type": "code",
      "metadata": {
        "id": "rnu7eHk92hDQ",
        "colab": {
          "base_uri": "https://localhost:8080/",
          "height": 179
        },
        "outputId": "b14dac0b-9a22-4ac6-938f-e0cf26b9548a"
      },
      "source": [
        "# second you run the variables are saved (maintained)\n",
        "#type(), str(), int()\n",
        "a_list_of_people_greeted = []\n",
        "def greeter_pricer(greeting_text, a_list_of_people):\n",
        "  guest = input(greeting_text)\n",
        "  days = int(input('Number of days to stay:'))\n",
        "\n",
        "  base_price = 200 # need this to initialize\n",
        "  if guest == 'Peter':\n",
        "    base_price = 50\n",
        "  else:\n",
        "    # >= <= == !=, \n",
        "    if (days == 2):\n",
        "      base_price = 150\n",
        "\n",
        "    if (days == 3):\n",
        "      base_price = 125\n",
        "\n",
        "    if (days == 4):\n",
        "      base_price = 400\n",
        "\n",
        "    if (days > 4):\n",
        "      base_price = 100\n",
        "  \n",
        "  total = days * base_price\n",
        "  \n",
        "  a_list_of_people.append((guest, days, base_price))\n",
        "\n",
        "  print('Your estimated cost is {}'.format(total))\n",
        "  \n",
        "  return total\n",
        "\n",
        "counter = 1\n",
        "greeting_text =  'Hello everyone'\n",
        "\n",
        "while(counter < 3):\n",
        "  greeter_pricer(greeting_text, a_list_of_people_greeted)\n",
        "  counter = counter + 1\n",
        "  \n",
        "\n",
        "print(len(a_list_of_people_greeted)) # how long a list is\n",
        "\n",
        "for a_person in a_list_of_people_greeted:\n",
        "  # a_person - tuple\n",
        "  # tuple is similar list, in accessing the items list[1], list[2]\n",
        "  print('Person: {} | nights stay: {} | total: {}'.format(a_person[0],a_person[1], a_person[1]*a_person[2]))\n",
        "\n",
        "# In general tuples, list, strigns can use for/while syntax and access syntax list[0], tuple[1], string[2]"
      ],
      "execution_count": null,
      "outputs": [
        {
          "output_type": "stream",
          "text": [
            "Hello everyonePeter\n",
            "Number of days to stay:3\n",
            "Your estimated cost is 150\n",
            "Hello everyoneAndrew\n",
            "Number of days to stay:5\n",
            "Your estimated cost is 500\n",
            "2\n",
            "Person Peter: | nights stay: 3 | total: 150\n",
            "Person Andrew: | nights stay: 5 | total: 500\n"
          ],
          "name": "stdout"
        }
      ]
    },
    {
      "cell_type": "markdown",
      "metadata": {
        "id": "xFPt5P39sshj"
      },
      "source": [
        "You can see that we're doin this chain of if/else to do the logic. We can turn this if else chain into a Dictionary mapping since we're checking the price based on the days"
      ]
    },
    {
      "cell_type": "code",
      "metadata": {
        "id": "zXbq6133sqiU",
        "colab": {
          "base_uri": "https://localhost:8080/",
          "height": 214
        },
        "outputId": "088d60e4-71f5-4002-99fc-0017c40f09fa"
      },
      "source": [
        "# Since PRICING is constant we will name it will all caps. This is just\n",
        "# style convention\n",
        "# To define a dictionary we use curly brackets. We will map a key\n",
        "# to a value:\n",
        "PRICING = {\n",
        "    1: 200, # we will need to specify this case this time\n",
        "    2: 150, # we will map 2 days to 150$\n",
        "    3: 125, # 3 days to 125, etc\n",
        "    4: 400,\n",
        "}\n",
        "# you see here that we dont include over 500. This is the limitation of the \n",
        "# vanilla dict. I'll show you what happens later when we don't have the key\n",
        "# in the dictionary\n",
        "\n",
        "# We'll use a dictionary as well to check for guests\n",
        "GUEST_PRICE = {\n",
        "    'peter': 50,\n",
        "    'andrew': 25,\n",
        "}\n",
        "# i used lower case here. I'll be lower casing the name later when i compare\n",
        "\n",
        "# second you run the variables are saved (maintained)\n",
        "#type(), str(), int()\n",
        "a_list_of_people_greeted = []\n",
        "def greeter_pricer(greeting_text, a_list_of_people):\n",
        "  guest = input(greeting_text)\n",
        "  days = int(input('Number of days to stay: '))\n",
        "\n",
        "  # Now we wont have all guests in the map. here we'll use the try -> except\n",
        "  # clause to catch the error and return a default value\n",
        "  # we'll initialize the base price that way\n",
        "  \n",
        "  try:\n",
        "    base_price = GUEST_PRICE[guest.lower()] # lower will lower case the guest name\n",
        "    # and to access the value in the dict with a key we use similar syntax to \n",
        "    # a list but use keys (of strings or numbers) as the value inputted\n",
        "  except KeyError: # now we will `catch` the KeyError error and do something\n",
        "    # instead of failing, which is use the days to determine the price:\n",
        "    base_price = 200\n",
        "    \n",
        "    # we will wrap i again in a try except clause to do the over 4 values:\n",
        "    try:\n",
        "      base_price = PRICING[days]\n",
        "    except KeyError:\n",
        "      base_price = 100 # over 4\n",
        "\n",
        "  total = days * base_price\n",
        "  \n",
        "  a_list_of_people.append((guest, days, base_price))\n",
        "\n",
        "  print('Your estimated cost is {}'.format(total))\n",
        "  \n",
        "  return total\n",
        "\n",
        "counter = 1\n",
        "greeting_text =  'Hello everyone! Can I get your name? \\n' # \\n is newline\n",
        "\n",
        "while(counter < 3):\n",
        "  greeter_pricer(greeting_text, a_list_of_people_greeted)\n",
        "  counter = counter + 1\n",
        "  \n",
        "\n",
        "print(len(a_list_of_people_greeted)) # how long a list is\n",
        "\n",
        "for a_person in a_list_of_people_greeted:\n",
        "  # a_person - tuple\n",
        "  # tuple is similar list, in accessing the items list[1], list[2]\n",
        "  print('Person: {} | nights to stay: {} | total: {}'.format(a_person[0],a_person[1], a_person[1]*a_person[2]))\n",
        "\n",
        "# In general tuples, list, strigns can use for/while syntax and access syntax list[0], tuple[1], string[2]"
      ],
      "execution_count": null,
      "outputs": [
        {
          "output_type": "stream",
          "text": [
            "Hello everyone! Can I get your name? \n",
            "Peter\n",
            "Number of days to stay: 25\n",
            "Your estimated cost is 1250\n",
            "Hello everyone! Can I get your name? \n",
            "Anna\n",
            "Number of days to stay: 21\n",
            "Your estimated cost is 2100\n",
            "2\n",
            "Person: Peter | nights stay: 25 | total: 1250\n",
            "Person: Anna | nights stay: 21 | total: 2100\n"
          ],
          "name": "stdout"
        }
      ]
    },
    {
      "cell_type": "markdown",
      "metadata": {
        "id": "mbitS7AYZpro"
      },
      "source": [
        "So now we have a this sort of mini reservation system with custom prices for days and certain people. But what if we had serveral places people can stay and/or want to customize the day rates based on where the access the software?\n",
        "\n",
        "We can use classes for this. We will abstract the program into a class, then when we make the class we will input the pricing dictionaries we made.\n",
        "\n",
        "First what is a class? A class is basically a template that you use to make an object. The object is what we use to interact with other things in python, in fact everything we've been dealing with now have been objects. The integers, floats, strings and even lists and dictionaries are objects.\n",
        "\n",
        "I've mention before, we interface with objects through calling their methods. A string (object) for example contains a lower() method. You can see this is called like a function. Methods and functions are similar, the biggest difference is that the method is attached to an object and this always has the object itself to refer to when it is called."
      ]
    },
    {
      "cell_type": "code",
      "metadata": {
        "id": "_Ex7XGlMdHIe",
        "colab": {
          "base_uri": "https://localhost:8080/",
          "height": 196
        },
        "outputId": "aa43f07c-fb3e-4fcc-cc43-29f419aabf75"
      },
      "source": [
        "# This is the way we define a class. We use the class keyword\n",
        "# we then define the methods. As I've mentioned before, methods are functions\n",
        "# but have a reference to the object itself. This is represented as self\n",
        "# you can access what ever you defined here in self\n",
        "\n",
        "class BasicClass:\n",
        "    def __init__(self, number_thing):\n",
        "        # this __init__ method is special. This is called when we create the object\n",
        "        # from the BasicClass. For further research - this is called a \n",
        "        # dunder method because of the double underscore which has some special\n",
        "        # meaning to python\n",
        "\n",
        "        # at this point we can add things to the object itself. we do this\n",
        "        # by this syntax:\n",
        "        self.number_thing = number_thing\n",
        "        # we are attaching some named something into the objects attributes\n",
        "\n",
        "    def add_one(self):\n",
        "        # this is a normal method. As you can see inside that we used the\n",
        "        # number_thing defined before hand\n",
        "        self.number_thing = self.number_thing + 1\n",
        "        return self.number_thing\n",
        "\n",
        "    def my_thing(self):\n",
        "        # this is to just get the value. \n",
        "        return self.number_thing\n",
        "\n",
        "\n",
        "# to create the object one only needs to \"call\" it and assign the return value:\n",
        "my_obj = BasicClass(2)\n",
        "\n",
        "# my_obj methods can be used and depending on what you define, the availability\n",
        "# of functionality changes\n",
        "print(my_obj.my_thing())\n",
        "print(my_obj.add_one())\n",
        "\n",
        "# we can actually access the number_thing directly\n",
        "print(my_obj.number_thing)\n",
        "\n",
        "# but it's generally better to hide this behind a method so we dont accidentaly\n",
        "# change it if we dont need to\n",
        "print(my_obj.my_thing())  # this instea of direct access\n",
        "\n",
        "# we can actually make another one that has nothign do with the previous object\n",
        "another_obj = BasicClass(3)\n",
        "\n",
        "print(another_obj.my_thing())  # it has a different value\n",
        "print(another_obj.add_one())  # this will no affect my_obj\n",
        "print(another_obj.add_one())  # this will no affect my_obj\n",
        "print(another_obj.add_one())  # this will no affect my_obj\n",
        "\n",
        "print(my_obj.my_thing())\n",
        "print(another_obj.my_thing())\n"
      ],
      "execution_count": null,
      "outputs": [
        {
          "output_type": "stream",
          "text": [
            "2\n",
            "3\n",
            "3\n",
            "3\n",
            "3\n",
            "4\n",
            "5\n",
            "6\n",
            "3\n",
            "6\n"
          ],
          "name": "stdout"
        }
      ]
    },
    {
      "cell_type": "markdown",
      "metadata": {
        "id": "7I8X55fzimGY"
      },
      "source": [
        "Now with classes we are able to duplicate the functionality indefinitely with different parameters. We'll expand our price estimator with classes\n",
        "and we'll make more than one instant of the price estimate. We will, as well, move out the input into a class and create an interface so that we can pass input in different ways aside from the input function (such as csvs/text files)\n",
        "\n",
        "Our general plan is to abstract the price estimator, abstract the input. Then on creation time of the objects, we will create an input object (corresponding to user input or file input), include that into the creation of the price estimator so that we will have price estimators with different ways of input and different pricing mapping. \n",
        "\n",
        "(aside: passing in the input object into the price estimator when it's created is generally labed under \"dependency injection\". We are injecting the required input dependency during creation instead of defining it within the class that needs it)"
      ]
    },
    {
      "cell_type": "code",
      "metadata": {
        "id": "L_lOlvxKZ_sz",
        "colab": {
          "base_uri": "https://localhost:8080/",
          "height": 421
        },
        "outputId": "06a5cd29-e899-470c-da09-8ab5099b81cd"
      },
      "source": [
        "# We will be adding the pricing within the class:\n",
        "class Pricing:\n",
        "  # notice that the name pricing and the day pricing are actually\n",
        "  # the same, we will use the same class to represent them. We will then\n",
        "  # generalize the price selection in the check in class\n",
        "  def __init__(self, price_map, base_price=None):\n",
        "    self._base_price = base_price\n",
        "    self._price_map = price_map\n",
        "    \n",
        "  def get_price(self, value_key):\n",
        "    return self._price_map.get(value_key, self._base_price)\n",
        "\n",
        "  \n",
        "class Checkin:\n",
        "  def __init__(self, name, user_pricing, days_pricing, input_mechanism):\n",
        "    self._name = name\n",
        "    self._user_pricing = user_pricing\n",
        "    self._days_pricing = days_pricing\n",
        "    self._input = input_mechanism\n",
        "    self._customer_list = []\n",
        "    \n",
        "  def ask_something(self, prompt_text):\n",
        "    return self._input(prompt_text)\n",
        "\n",
        "  def get_price(self, user, days):\n",
        "    # we can give the better price depending if the days or user pricing\n",
        "    # has lesser base price\n",
        "    users_base = self._user_pricing.get_price(user)\n",
        "    days_base = self._days_pricing.get_price(days)\n",
        "    \n",
        "    if users_base and users_base < days_base:\n",
        "      # if we return, we exit immediately, the code past this return\n",
        "      # are NOT run\n",
        "      return users_base\n",
        "    \n",
        "    return days_base\n",
        "  \n",
        "  def get_name(self):\n",
        "    return self._name\n",
        "  \n",
        "  def get_customers(self):\n",
        "    return self._customer_list\n",
        "    \n",
        "  def run(self, loop):\n",
        "    \n",
        "    for x in range(0, loop):\n",
        "      user = self.ask_something(\n",
        "          'Welcome to {}! \\nYour name? \\n'.format(self._name))\n",
        "      days_to_stay = int(self.ask_something(\n",
        "          'How many days are you staying? \\n'))\n",
        "      base_price = self.get_price(user, days_to_stay)\n",
        "      self._customer_list.append(\n",
        "          (user, days_to_stay, base_price))\n",
        "      \n",
        "      print('Your estimated price is: {}'.format(days_to_stay*base_price))\n",
        "      \n",
        "    return self._customer_list\n",
        "\n",
        "def output_customers(checkin_obj):\n",
        "  list_cust = checkin_obj.get_customers()\n",
        "  print('Custemers of {}'.format(checkin_obj.get_name()))\n",
        "  for a_person in list_cust:\n",
        "    print('Person: {} | nights to stay: {} | total: {}'.format(\n",
        "        a_person[0],a_person[1], a_person[1]*a_person[2]))\n",
        "\n",
        "    \n",
        "PRICING = {\n",
        "    1: 200, # we will need to specify this case this time\n",
        "    2: 150, # we will map 2 days to 150$\n",
        "    3: 125, # 3 days to 125, etc\n",
        "    4: 400,\n",
        "}\n",
        "# you see here that we dont include over 500. This is the limitation of the \n",
        "# vanilla dict. I'll show you what happens later when we don't have the key\n",
        "# in the dictionary\n",
        "\n",
        "# We'll use a dictionary as well to check for guests\n",
        "GUEST_PRICE = {\n",
        "    'peter': 50,\n",
        "    'andrew': 25,\n",
        "}\n",
        "\n",
        "hotel_pete_days_pricing = Pricing(PRICING, base_price=500)\n",
        "hotel_pete_guest_pricing = Pricing(GUEST_PRICE, base_price=None)\n",
        "\n",
        "hotel_pete = Checkin('Hotel Pete', hotel_pete_guest_pricing, \n",
        "                     hotel_pete_days_pricing, input)\n",
        "\n",
        "hotel_pete.run(3)\n",
        "\n",
        "output_customers(hotel_pete)"
      ],
      "execution_count": null,
      "outputs": [
        {
          "output_type": "stream",
          "text": [
            "Welcome to Hotel Pete! \n",
            "Your name? \n",
            "Anna\n",
            "How many days are you staying? \n",
            "3\n",
            "Your estimated price is: 375\n",
            "Welcome to Hotel Pete! \n",
            "Your name? \n",
            "peter\n",
            "How many days are you staying? \n",
            "2\n",
            "Your estimated price is: 100\n",
            "Welcome to Hotel Pete! \n",
            "Your name? \n",
            "andrew\n",
            "How many days are you staying? \n",
            "1\n",
            "Your estimated price is: 25\n",
            "Custemers of Hotel Pete\n",
            "Person: Anna | nights to stay: 3 | total: 375\n",
            "Person: peter | nights to stay: 2 | total: 100\n",
            "Person: andrew | nights to stay: 1 | total: 25\n"
          ],
          "name": "stdout"
        }
      ]
    },
    {
      "cell_type": "code",
      "metadata": {
        "id": "ArKDUpMIdAEp",
        "colab": {
          "base_uri": "https://localhost:8080/",
          "height": 35
        },
        "outputId": "f41b604b-3f5c-4252-ce8f-a4896f27d13d"
      },
      "source": [
        "bool(0)"
      ],
      "execution_count": null,
      "outputs": [
        {
          "output_type": "execute_result",
          "data": {
            "text/plain": [
              "False"
            ]
          },
          "metadata": {
            "tags": []
          },
          "execution_count": 2
        }
      ]
    }
  ]
}